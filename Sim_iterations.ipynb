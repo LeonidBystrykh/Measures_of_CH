{
 "cells": [
  {
   "cell_type": "markdown",
   "metadata": {},
   "source": [
    "## This is a replication test for the Ich values and the fitness of the regression model\n",
    "\n",
    "First we import pachages and define the presentation style"
   ]
  },
  {
   "cell_type": "code",
   "execution_count": 2,
   "metadata": {},
   "outputs": [],
   "source": [
    "#import packages, define figures style\n",
    "import matplotlib.pyplot as plt, numpy as np, pandas as pd\n",
    "from skbio.diversity.alpha import gini_index, shannon, pielou_e, simpson\n",
    "import statsmodels.formula.api as smf\n",
    "from statsmodels.graphics.regressionplots import plot_regress_exog, plot_partregress\n",
    "import seaborn as sns\n",
    "plt.style.use('ggplot')"
   ]
  },
  {
   "cell_type": "markdown",
   "metadata": {},
   "source": [
    "Next we generate the data, measure indexes and replicate the entire procedure all in one two-folded loop"
   ]
  },
  {
   "cell_type": "code",
   "execution_count": 4,
   "metadata": {},
   "outputs": [
    {
     "name": "stdout",
     "output_type": "stream",
     "text": [
      "0\n",
      "10\n",
      "20\n",
      "30\n",
      "40\n",
      "finished\n"
     ]
    }
   ],
   "source": [
    "\"This is the major simulation block, which tests robustness of the fit\"\n",
    "Ich_data,Gin_data,Sim_data,Shi_data, Pie_data=[],[],[],[],[]\n",
    "res_ols, res_gls, res_Shas, res_Sha=[],[],[],[]\n",
    "for n in range(50): #careful with big numbers, it can be slow\n",
    "    if n%10==0:\n",
    "        print(n)\n",
    "    for i in range(50,500,25): \n",
    "        for j in range(1,21):\n",
    "            x=np.random.beta(21-j,j, size=i)\n",
    "            xn=x/sum(x)\n",
    "            Xch=[x for x in xn if x>0.005]\n",
    "            Ich=sum(Xch)\n",
    "            Ich_data.append(Ich) #the final Ch index\n",
    "            Gin=gini_index(x)\n",
    "            Gin_data.append(Gin)\n",
    "            Sim=simpson(x)\n",
    "            Sim_data.append(Sim)\n",
    "            Shi_data.append(shannon(x))\n",
    "            Pie=pielou_e(x)\n",
    "            Pie_data.append(Pie)       \n",
    "    df = pd.DataFrame(data=[Ich_data, Gin_data, Pie_data, Shi_data, Sim_data]).T\n",
    "    df.columns=[\"CH\", \"Gini\", \"Pielou\", \"Shannon\", \"Simpson\"]\n",
    "    results = smf.ols('CH ~ Shannon+ Simpson+ Gini + Pielou', data=df).fit()\n",
    "    resShaS=smf.ols('CH ~ Shannon+Simpson', data=df).fit()\n",
    "    resSh=smf.ols('CH ~ Shannon', data=df).fit()\n",
    "    resgls = smf.gls('CH ~ Shannon+ Simpson+ Gini + Pielou', data=df).fit()\n",
    "    res_ols.append(results.rsquared)\n",
    "    res_gls.append(resgls.rsquared)\n",
    "    res_Shas.append(resShaS.rsquared)\n",
    "    res_Sha.append(resSh.rsquared)\n",
    "print(\"finished\")"
   ]
  },
  {
   "cell_type": "markdown",
   "metadata": {},
   "source": [
    "All data are collected. Now we can generate a plot. First we convert data into a data frame and show it as an seaborn boxplot"
   ]
  },
  {
   "cell_type": "code",
   "execution_count": 10,
   "metadata": {},
   "outputs": [
    {
     "data": {
      "text/plain": [
       "<bound method NDFrame.describe of     R2 full OLS  R2 full GLS  R2 Shann+Simp  R2 Shannon\n",
       "0      0.879949     0.879949       0.872056    0.825883\n",
       "1      0.882356     0.882356       0.875147    0.827715\n",
       "2      0.883745     0.883745       0.876532    0.828099\n",
       "3      0.883823     0.883823       0.876697    0.828409\n",
       "4      0.884520     0.884520       0.877640    0.828849\n",
       "5      0.884819     0.884819       0.878039    0.828656\n",
       "6      0.884937     0.884937       0.878243    0.828477\n",
       "7      0.885077     0.885077       0.878417    0.828564\n",
       "8      0.885362     0.885362       0.878693    0.828656\n",
       "9      0.885624     0.885624       0.878901    0.828580\n",
       "10     0.885873     0.885873       0.879253    0.828734\n",
       "11     0.886030     0.886030       0.879495    0.828911\n",
       "12     0.886024     0.886024       0.879495    0.828904\n",
       "13     0.886149     0.886149       0.879674    0.828988\n",
       "14     0.886156     0.886156       0.879691    0.828935\n",
       "15     0.886263     0.886263       0.879732    0.828978\n",
       "16     0.886322     0.886322       0.879747    0.828928\n",
       "17     0.886364     0.886364       0.879800    0.828914\n",
       "18     0.886487     0.886487       0.879969    0.828973\n",
       "19     0.886360     0.886360       0.879802    0.828938\n",
       "20     0.886536     0.886536       0.880007    0.829037\n",
       "21     0.886661     0.886661       0.880150    0.829135\n",
       "22     0.886376     0.886376       0.879807    0.829010\n",
       "23     0.886405     0.886405       0.879857    0.829012\n",
       "24     0.886381     0.886381       0.879809    0.828931\n",
       "25     0.886373     0.886373       0.879818    0.828888\n",
       "26     0.886431     0.886431       0.879849    0.828841\n",
       "27     0.886364     0.886364       0.879788    0.828807\n",
       "28     0.886379     0.886379       0.879807    0.828822\n",
       "29     0.886380     0.886380       0.879778    0.828800\n",
       "30     0.886399     0.886399       0.879830    0.828809\n",
       "31     0.886485     0.886485       0.879902    0.828822\n",
       "32     0.886420     0.886420       0.879861    0.828797\n",
       "33     0.886484     0.886484       0.879943    0.828819\n",
       "34     0.886490     0.886490       0.879944    0.828813\n",
       "35     0.886513     0.886513       0.879966    0.828827\n",
       "36     0.886556     0.886556       0.880026    0.828893\n",
       "37     0.886574     0.886574       0.880042    0.828905\n",
       "38     0.886574     0.886574       0.880058    0.828906\n",
       "39     0.886540     0.886540       0.880013    0.828885\n",
       "40     0.886575     0.886575       0.880054    0.828883\n",
       "41     0.886594     0.886594       0.880076    0.828870\n",
       "42     0.886556     0.886556       0.880015    0.828819\n",
       "43     0.886520     0.886520       0.879982    0.828792\n",
       "44     0.886542     0.886542       0.879991    0.828767\n",
       "45     0.886586     0.886586       0.880059    0.828828\n",
       "46     0.886587     0.886587       0.880054    0.828815\n",
       "47     0.886601     0.886601       0.880082    0.828802\n",
       "48     0.886652     0.886652       0.880148    0.828837\n",
       "49     0.886696     0.886696       0.880202    0.828878>"
      ]
     },
     "execution_count": 10,
     "metadata": {},
     "output_type": "execute_result"
    }
   ],
   "source": [
    "sum_df=pd.DataFrame(data=[res_ols,res_gls, res_Shas, res_Sha]).T \n",
    "sum_df.columns=[\"R2 full OLS\", \"R2 full GLS\",\"R2 Shann+Simp\", \"R2 Shannon\"]\n",
    "sum_df.describe "
   ]
  },
  {
   "cell_type": "markdown",
   "metadata": {},
   "source": [
    "Show as a seaborn boxplot"
   ]
  },
  {
   "cell_type": "code",
   "execution_count": 11,
   "metadata": {},
   "outputs": [
    {
     "data": {
      "text/plain": [
       "Text(0.5, 1.0, 'Replication of the R-squared using 4 different regression models')"
      ]
     },
     "execution_count": 11,
     "metadata": {},
     "output_type": "execute_result"
    },
    {
     "data": {
      "image/png": "[encoded data removed]",
      "text/plain": [
       "<Figure size 432x288 with 1 Axes>"
      ]
     },
     "metadata": {},
     "output_type": "display_data"
    }
   ],
   "source": [
    "sns.boxplot(data=sum_df)\n",
    "plt.title(\"Replication of the R-squared using 4 different regression models\")"
   ]
  },
  {
   "cell_type": "markdown",
   "metadata": {},
   "source": [
    "This barely changes"
   ]
  }
 ],
 "metadata": {
  "kernelspec": {
   "display_name": "Python 3.8.5 64-bit",
   "language": "python",
   "name": "python38564bit12bc227107fa4ce3b94048a0c7dc1f72"
  },
  "language_info": {
   "codemirror_mode": {
    "name": "ipython",
    "version": 3
   },
   "file_extension": ".py",
   "mimetype": "text/x-python",
   "name": "python",
   "nbconvert_exporter": "python",
   "pygments_lexer": "ipython3",
   "version": "3.8.5"
  }
 },
 "nbformat": 4,
 "nbformat_minor": 4
}
